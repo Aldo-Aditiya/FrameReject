{
 "cells": [
  {
   "cell_type": "code",
   "execution_count": 1,
   "id": "b3400b25-8e39-4eb0-aa9c-8818d897c4d8",
   "metadata": {},
   "outputs": [
    {
     "name": "stdout",
     "output_type": "stream",
     "text": [
      "pygame 2.1.2 (SDL 2.0.18, Python 3.9.0)\n",
      "Hello from the pygame community. https://www.pygame.org/contribute.html\n"
     ]
    }
   ],
   "source": [
    "import os\n",
    "import sys\n",
    "import time\n",
    "\n",
    "import numpy as np\n",
    "from matplotlib import pyplot as plt\n",
    "\n",
    "from ale_py import ALEInterface\n",
    "import pygame\n",
    "\n",
    "from IPython.display import clear_output   "
   ]
  },
  {
   "cell_type": "markdown",
   "id": "0896a2eb-a573-4eca-8d66-8576a393807b",
   "metadata": {},
   "source": [
    "## ROM Prep"
   ]
  },
  {
   "cell_type": "code",
   "execution_count": 3,
   "id": "8e6657d9-afd7-4e0d-8402-29a912ab1a26",
   "metadata": {},
   "outputs": [],
   "source": [
    "rom_file = \"/Users/aldo/workspace/202201_cs5340/_project/_rom/breakout.bin\""
   ]
  },
  {
   "cell_type": "code",
   "execution_count": 4,
   "id": "ebad50ff-33a4-42db-8101-4c64e1261cc0",
   "metadata": {},
   "outputs": [
    {
     "name": "stderr",
     "output_type": "stream",
     "text": [
      "A.L.E: Arcade Learning Environment (version 0.7.4+069f8bd)\n",
      "[Powered by Stella]\n"
     ]
    }
   ],
   "source": [
    "ale = ALEInterface()\n",
    "ale.setInt(\"random_seed\", 42)\n",
    "ale.setFloat(\"repeat_action_probability\", 0)"
   ]
  },
  {
   "cell_type": "code",
   "execution_count": 5,
   "id": "db78c8bc-bb91-4312-a083-e893b22f20d2",
   "metadata": {},
   "outputs": [
    {
     "name": "stderr",
     "output_type": "stream",
     "text": [
      "Game console created:\n",
      "  ROM file:  /Users/aldo/workspace/202201_cs5340/_project/_rom/breakout.bin\n",
      "  Cart Name: Breakout - Breakaway IV (1978) (Atari)\n",
      "  Cart MD5:  f34f08e5eb96e500e851a80be3277a56\n",
      "  Display Format:  AUTO-DETECT ==> NTSC\n",
      "  ROM Size:        2048\n",
      "  Bankswitch Type: AUTO-DETECT ==> 2K\n",
      "\n",
      "Running ROM file...\n",
      "Random seed is 42\n"
     ]
    }
   ],
   "source": [
    "# Load Roms\n",
    "ale.loadROM(rom_file)"
   ]
  },
  {
   "cell_type": "code",
   "execution_count": 6,
   "id": "c6feec31-406d-4c3b-9d80-6e70861b5a02",
   "metadata": {},
   "outputs": [
    {
     "name": "stdout",
     "output_type": "stream",
     "text": [
      "[<Action.NOOP: 0>, <Action.FIRE: 1>, <Action.UP: 2>, <Action.RIGHT: 3>, <Action.LEFT: 4>, <Action.DOWN: 5>, <Action.UPRIGHT: 6>, <Action.UPLEFT: 7>, <Action.DOWNRIGHT: 8>, <Action.DOWNLEFT: 9>, <Action.UPFIRE: 10>, <Action.RIGHTFIRE: 11>, <Action.LEFTFIRE: 12>, <Action.DOWNFIRE: 13>, <Action.UPRIGHTFIRE: 14>, <Action.UPLEFTFIRE: 15>, <Action.DOWNRIGHTFIRE: 16>, <Action.DOWNLEFTFIRE: 17>]\n",
      "[<Action.NOOP: 0>, <Action.FIRE: 1>, <Action.RIGHT: 3>, <Action.LEFT: 4>]\n"
     ]
    }
   ],
   "source": [
    "# Get the list of legal actions\n",
    "legal_actions = ale.getLegalActionSet()\n",
    "minimal_actions = ale.getMinimalActionSet()\n",
    "print(legal_actions)\n",
    "print(minimal_actions)"
   ]
  },
  {
   "cell_type": "markdown",
   "id": "96cfe3cf-02a9-443d-aac2-ab6c2621f272",
   "metadata": {},
   "source": [
    "## Simulate Game"
   ]
  },
  {
   "cell_type": "code",
   "execution_count": 7,
   "id": "5609ba51-c02a-4fa5-9fa5-aee0b962a86a",
   "metadata": {},
   "outputs": [],
   "source": [
    "### Reset and Prep Screen and RAM Data\n",
    "ram_size = ale.getRAMSize()\n",
    "ram = np.zeros((ram_size),dtype=np.uint8)\n",
    "ale.getRAM(ram)\n",
    "\n",
    "(screen_width,screen_height) = ale.getScreenDims()\n",
    "screen_data = np.zeros((screen_width,screen_height,3),dtype=np.uint8)\n",
    "ale.getScreenRGB(screen_data)\n",
    "\n",
    "(screen_width,screen_height) = ale.getScreenDims()\n",
    "screen_data = np.zeros((screen_width,screen_height),dtype=np.uint8)\n",
    "ale.getScreen(screen_data)"
   ]
  },
  {
   "cell_type": "code",
   "execution_count": null,
   "id": "6a6daf23-70d2-4b7a-9dda-266308e47419",
   "metadata": {
    "tags": []
   },
   "outputs": [],
   "source": [
    "### Simulate Randomize Game Playing\n",
    "### Note: NOOP and FIRE does nothing. Only LEFT and RIGHT does.\n",
    "### Note: Doing it this way is really slow because of the clear_output\n",
    "\n",
    "total_reward = 0.0\n",
    "ale.reset_game()  \n",
    "while not ale.game_over():\n",
    "    start_time = time.time()\n",
    "    a = minimal_actions[np.random.randint(len(minimal_actions))]\n",
    "    reward = ale.act(a);\n",
    "    frame = ale.getScreenRGB()\n",
    "    #print(\"--- Generate next frame: %s seconds ---\" % (time.time() - start_time)) \n",
    "\n",
    "    plt.imshow(ale.getScreenRGB())\n",
    "    plt.show()\n",
    "    print(a)\n",
    "    #print(ale.getRAM())\n",
    "    \n",
    "    clear_output(wait=True)"
   ]
  },
  {
   "cell_type": "markdown",
   "id": "898b226c-30b0-4c6d-b898-c25369724742",
   "metadata": {},
   "source": [
    "### Performance Exploration"
   ]
  },
  {
   "cell_type": "code",
   "execution_count": null,
   "id": "698a1bca-ab1b-4027-ae19-9c8fada651e6",
   "metadata": {},
   "outputs": [],
   "source": [
    "# How long each frame generation might take on average?\n",
    "time_frame = []\n",
    "ale.reset_game()  \n",
    "while not ale.game_over():\n",
    "    start_time = time.time()\n",
    "    a = minimal_actions[np.random.randint(len(minimal_actions))]\n",
    "    reward = ale.act(a);\n",
    "    frame = ale.getScreenRGB()\n",
    "    time_frame.append(time.time() - start_time)\n",
    "    \n",
    "mean_time_frame = np.mean(np.array(time_frame))\n",
    "print(\"Action + Generate Frames Take: \" + str(mean_time_frame) + \"s, or \" + str(1/mean_time_frame) + \" FPS\")"
   ]
  },
  {
   "cell_type": "code",
   "execution_count": null,
   "id": "fb1f644e-ea15-4554-b65c-1517ad422654",
   "metadata": {},
   "outputs": [],
   "source": [
    "# How long does each state cloning and restoring might take on average?\n",
    " \n",
    "time_clone = []\n",
    "time_restore = []\n",
    "ale.reset_game()  \n",
    "while not ale.game_over():\n",
    "    start_time = time.time()\n",
    "    \n",
    "    # Do a random action twice, cloning in between and restore after\n",
    "    a = minimal_actions[np.random.randint(len(minimal_actions))]\n",
    "    reward = ale.act(a);\n",
    "    \n",
    "    start_time = time.time()\n",
    "    state = ale.cloneState()\n",
    "    time_clone.append(time.time() - start_time)\n",
    "    \n",
    "    a = minimal_actions[np.random.randint(len(minimal_actions))]\n",
    "    reward = ale.act(a);\n",
    "    \n",
    "    start_time = time.time()\n",
    "    ale.restoreState(state)\n",
    "    frame = ale.getScreenRGB()\n",
    "    time_restore.append(time.time() - start_time)\n",
    "    \n",
    "mean_time_clone = np.mean(np.array(time_clone))\n",
    "print(\"Clone Time: \" + str(mean_time_clone) + \"s, or \" + str(1/mean_time_clone) + \" FPS\")\n",
    "mean_time_restore = np.mean(np.array(time_restore))\n",
    "print(\"Restore Time: \" + str(mean_time_restore) + \"s, or \" + str(1/mean_time_restore) + \" FPS\")"
   ]
  },
  {
   "cell_type": "code",
   "execution_count": null,
   "id": "52a524da-c125-450e-bdeb-23305f21f782",
   "metadata": {},
   "outputs": [],
   "source": [
    "# How long does all the steps of cloning and restoring might take on average?\n",
    "# Includes resetting the game, cloning/restoring the state, doing action, and getting the frame\n",
    "\n",
    "time_clone = []\n",
    "time_restore = []\n",
    "for i in range(50):\n",
    "    ale.reset_game()\n",
    "    a_init = minimal_actions[np.random.randint(len(minimal_actions))]\n",
    "    start_time = time.time()\n",
    "    state = ale.cloneState(include_rng=True)\n",
    "    reward = ale.act(a_init);\n",
    "    frame_init = np.array(ale.getScreenRGB())\n",
    "    time_clone.append(time.time() - start_time)\n",
    "    \n",
    "    for i in range(10):\n",
    "        a = minimal_actions[np.random.randint(len(minimal_actions))]\n",
    "        reward = ale.act(a);\n",
    "        frame = ale.getScreenRGB()\n",
    "    \n",
    "    start_time = time.time()\n",
    "    #ale.reset_game()\n",
    "    ale.restoreState(state)\n",
    "    ale.act(a_init);\n",
    "    frame_new = np.array(ale.getScreenRGB())\n",
    "    time_restore.append(time.time() - start_time)\n",
    "    \n",
    "mean_time_clone = np.mean(np.array(time_clone))\n",
    "print(\"Full Clone Time: \" + str(mean_time_clone) + \"s, or \" + str(1/mean_time_clone) + \" FPS\")\n",
    "mean_time_restore = np.mean(np.array(time_restore))\n",
    "print(\"Full Restore Time: \" + str(mean_time_restore) + \"s, or \" + str(1/mean_time_restore) + \" FPS\")"
   ]
  },
  {
   "cell_type": "code",
   "execution_count": null,
   "id": "37f59621-61e1-4661-a085-e6536002de94",
   "metadata": {},
   "outputs": [],
   "source": [
    "# How does state clone and restore work?\n",
    "\n",
    "ale.reset_game()\n",
    "a_init = minimal_actions[np.random.randint(len(minimal_actions))]\n",
    "state = ale.cloneState(include_rng=True)\n",
    "reward = ale.act(a_init);\n",
    "frame_init = np.array(ale.getScreenRGB())\n",
    "\n",
    "for i in range(10):\n",
    "    a = minimal_actions[np.random.randint(len(minimal_actions))]\n",
    "    reward = ale.act(a);\n",
    "    frame = ale.getScreenRGB()\n",
    "\n",
    "ale.restoreState(state)\n",
    "ale.act(a_init);\n",
    "frame_new = np.array(ale.getScreenRGB())\n",
    "\n",
    "fig, (ax1, ax2, ax3) = plt.subplots(1,3, figsize=(20,10))\n",
    "ax1.imshow(frame_init)\n",
    "ax2.imshow(frame)\n",
    "ax3.imshow(frame_new)\n",
    "\n",
    "print(np.linalg.norm(frame_new - frame_init))"
   ]
  },
  {
   "cell_type": "code",
   "execution_count": null,
   "id": "20f33626-f7a0-4fe4-a120-07597d7ff729",
   "metadata": {},
   "outputs": [],
   "source": [
    "# Test Capability of Clone and Restore (Start vs End)\n",
    "\n",
    "norm = []\n",
    "for i in range(1000):\n",
    "    ale.reset_game()\n",
    "    a_init = minimal_actions[np.random.randint(len(minimal_actions))]\n",
    "    state = ale.cloneState(include_rng=True)\n",
    "    reward = ale.act(a_init);\n",
    "    frame_init = np.array(ale.getScreenRGB())\n",
    "    \n",
    "    for i in range(5):\n",
    "        a = minimal_actions[np.random.randint(len(minimal_actions))]\n",
    "        reward = ale.act(a);\n",
    "        frame = ale.getScreenRGB()\n",
    "    \n",
    "    ale.restoreState(state)\n",
    "    ale.act(a_init);\n",
    "    frame_new = np.array(ale.getScreenRGB())\n",
    "\n",
    "    norm_val = np.linalg.norm(frame_new - frame_init)\n",
    "    norm.append(norm_val)\n",
    "    \n",
    "    if (norm_val > 0):\n",
    "        print(norm_val)\n",
    "        fig, (ax1, ax2, ax3) = plt.subplots(1,3, figsize=(20,10))\n",
    "        ax1.imshow(frame_init)\n",
    "        ax2.imshow(frame)\n",
    "        ax3.imshow(frame_new)\n",
    "        \n",
    "print(np.mean(np.array(norm)))"
   ]
  },
  {
   "cell_type": "code",
   "execution_count": null,
   "id": "63fb5bde-7ba3-4d80-ab96-7f40248eb422",
   "metadata": {},
   "outputs": [],
   "source": [
    "# Test Capability of Clone and Restore (Middle of Process vs End) \n",
    "\n",
    "norm = []\n",
    "for i in range(1000):\n",
    "    ale.reset_game()\n",
    "    a_init = minimal_actions[np.random.randint(len(minimal_actions))]\n",
    "    state = ale.cloneState(include_rng=True)\n",
    "    reward = ale.act(a_init);\n",
    "    frame_init = np.array(ale.getScreenRGB())\n",
    "    \n",
    "    for i in range(10):\n",
    "        a = minimal_actions[np.random.randint(len(minimal_actions))]\n",
    "        state = ale.cloneState(include_rng=True)\n",
    "        reward = ale.act(a);\n",
    "        frame = ale.getScreenRGB()\n",
    "    \n",
    "    reward = ale.act(a);\n",
    "    ale.restoreState(state)\n",
    "    ale.act(a);\n",
    "    frame_new = np.array(ale.getScreenRGB())\n",
    "    \n",
    "    norm_val = np.linalg.norm(frame_new - frame)\n",
    "    norm.append(norm_val)\n",
    "    \n",
    "    if (norm_val > 0):\n",
    "        print(norm_val)\n",
    "        fig, (ax1, ax2, ax3) = plt.subplots(1,3, figsize=(20,10))\n",
    "        ax1.imshow(frame_init)\n",
    "        ax2.imshow(frame)\n",
    "        ax3.imshow(frame_new)\n",
    "    \n",
    "print(np.mean(np.array(norm)))"
   ]
  },
  {
   "cell_type": "markdown",
   "id": "ba079578-8874-446d-98a8-c300f21c394c",
   "metadata": {},
   "source": [
    "### Generate Multiple Future Frames"
   ]
  },
  {
   "cell_type": "code",
   "execution_count": null,
   "id": "56e57352-aac0-4826-be3a-1b13bea1e6b9",
   "metadata": {},
   "outputs": [],
   "source": []
  }
 ],
 "metadata": {
  "kernelspec": {
   "display_name": "Python 3 (ipykernel)",
   "language": "python",
   "name": "python3"
  },
  "language_info": {
   "codemirror_mode": {
    "name": "ipython",
    "version": 3
   },
   "file_extension": ".py",
   "mimetype": "text/x-python",
   "name": "python",
   "nbconvert_exporter": "python",
   "pygments_lexer": "ipython3",
   "version": "3.9.0"
  }
 },
 "nbformat": 4,
 "nbformat_minor": 5
}
