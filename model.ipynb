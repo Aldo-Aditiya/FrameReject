{
 "cells": [
  {
   "cell_type": "code",
   "execution_count": 1,
   "metadata": {},
   "outputs": [],
   "source": [
    "import time\n",
    "import pickle\n",
    "\n",
    "import numpy as np\n",
    "import pandas as pd\n",
    "\n",
    "from pgmpy.models import BayesianNetwork\n",
    "from pgmpy.estimators import MaximumLikelihoodEstimator"
   ]
  },
  {
   "cell_type": "code",
   "execution_count": 5,
   "metadata": {},
   "outputs": [
    {
     "data": {
      "text/html": [
       "<div>\n",
       "<style scoped>\n",
       "    .dataframe tbody tr th:only-of-type {\n",
       "        vertical-align: middle;\n",
       "    }\n",
       "\n",
       "    .dataframe tbody tr th {\n",
       "        vertical-align: top;\n",
       "    }\n",
       "\n",
       "    .dataframe thead th {\n",
       "        text-align: right;\n",
       "    }\n",
       "</style>\n",
       "<table border=\"1\" class=\"dataframe\">\n",
       "  <thead>\n",
       "    <tr style=\"text-align: right;\">\n",
       "      <th></th>\n",
       "      <th>paddle_position</th>\n",
       "      <th>paddle_state</th>\n",
       "      <th>previous_paddle_position</th>\n",
       "      <th>ball_position</th>\n",
       "      <th>ball_state</th>\n",
       "      <th>previous_ball_position</th>\n",
       "      <th>keypress</th>\n",
       "      <th>previous_keypress</th>\n",
       "    </tr>\n",
       "  </thead>\n",
       "  <tbody>\n",
       "    <tr>\n",
       "      <th>0</th>\n",
       "      <td>[ 0 56]</td>\n",
       "      <td>right</td>\n",
       "      <td>[0, 0]</td>\n",
       "      <td>[0, 0]</td>\n",
       "      <td>stagnant</td>\n",
       "      <td>[0, 0]</td>\n",
       "      <td>0</td>\n",
       "      <td>0</td>\n",
       "    </tr>\n",
       "    <tr>\n",
       "      <th>1</th>\n",
       "      <td>[ 0 56]</td>\n",
       "      <td>stagnant</td>\n",
       "      <td>[ 0 56]</td>\n",
       "      <td>[0, 0]</td>\n",
       "      <td>stagnant</td>\n",
       "      <td>[0, 0]</td>\n",
       "      <td>0</td>\n",
       "      <td>0</td>\n",
       "    </tr>\n",
       "    <tr>\n",
       "      <th>2</th>\n",
       "      <td>[ 0 56]</td>\n",
       "      <td>stagnant</td>\n",
       "      <td>[ 0 56]</td>\n",
       "      <td>[0, 0]</td>\n",
       "      <td>stagnant</td>\n",
       "      <td>[0, 0]</td>\n",
       "      <td>0</td>\n",
       "      <td>0</td>\n",
       "    </tr>\n",
       "    <tr>\n",
       "      <th>3</th>\n",
       "      <td>[ 0 56]</td>\n",
       "      <td>stagnant</td>\n",
       "      <td>[ 0 56]</td>\n",
       "      <td>[0, 0]</td>\n",
       "      <td>stagnant</td>\n",
       "      <td>[0, 0]</td>\n",
       "      <td>0</td>\n",
       "      <td>0</td>\n",
       "    </tr>\n",
       "    <tr>\n",
       "      <th>4</th>\n",
       "      <td>[ 0 56]</td>\n",
       "      <td>stagnant</td>\n",
       "      <td>[ 0 56]</td>\n",
       "      <td>[0, 0]</td>\n",
       "      <td>stagnant</td>\n",
       "      <td>[0, 0]</td>\n",
       "      <td>0</td>\n",
       "      <td>0</td>\n",
       "    </tr>\n",
       "  </tbody>\n",
       "</table>\n",
       "</div>"
      ],
      "text/plain": [
       "  paddle_position paddle_state previous_paddle_position ball_position  \\\n",
       "0         [ 0 56]        right                   [0, 0]        [0, 0]   \n",
       "1         [ 0 56]     stagnant                  [ 0 56]        [0, 0]   \n",
       "2         [ 0 56]     stagnant                  [ 0 56]        [0, 0]   \n",
       "3         [ 0 56]     stagnant                  [ 0 56]        [0, 0]   \n",
       "4         [ 0 56]     stagnant                  [ 0 56]        [0, 0]   \n",
       "\n",
       "  ball_state previous_ball_position  keypress  previous_keypress  \n",
       "0   stagnant                 [0, 0]         0                  0  \n",
       "1   stagnant                 [0, 0]         0                  0  \n",
       "2   stagnant                 [0, 0]         0                  0  \n",
       "3   stagnant                 [0, 0]         0                  0  \n",
       "4   stagnant                 [0, 0]         0                  0  "
      ]
     },
     "execution_count": 5,
     "metadata": {},
     "output_type": "execute_result"
    }
   ],
   "source": [
    "# Data Loading\n",
    "data_dir = './_data/'\n",
    "data_filenames = ['2022-04-22 02:07:18_0_cont.csv']\n",
    "\n",
    "df_l = []\n",
    "for f in data_filenames:\n",
    "    filepath = data_dir + f\n",
    "    df_l.append(pd.read_csv(filepath, index_col=None, header=0))\n",
    "\n",
    "df = pd.concat(df_l, axis=0, ignore_index=True)\n",
    "df.head()"
   ]
  },
  {
   "cell_type": "code",
   "execution_count": 8,
   "metadata": {},
   "outputs": [],
   "source": [
    "# Construct PGM\n",
    "model_struct = BayesianNetwork([('ball_state','keypress'), ('paddle_state', 'keypress')])\n"
   ]
  },
  {
   "cell_type": "code",
   "execution_count": 9,
   "metadata": {},
   "outputs": [],
   "source": [
    "# Training using MLE\n",
    "mle = MaximumLikelihoodEstimator(model=model_struct, data=df)"
   ]
  },
  {
   "cell_type": "code",
   "execution_count": 11,
   "metadata": {},
   "outputs": [
    {
     "name": "stdout",
     "output_type": "stream",
     "text": [
      "+--------------+--------------------+-----+------------------------+\n",
      "| ball_state   | ball_state(left)   | ... | ball_state(stagnant)   |\n",
      "+--------------+--------------------+-----+------------------------+\n",
      "| paddle_state | paddle_state(left) | ... | paddle_state(stagnant) |\n",
      "+--------------+--------------------+-----+------------------------+\n",
      "| keypress(0)  | 0.0                | ... | 0.9394812680115274     |\n",
      "+--------------+--------------------+-----+------------------------+\n",
      "| keypress(1)  | 0.0                | ... | 0.040345821325648415   |\n",
      "+--------------+--------------------+-----+------------------------+\n",
      "| keypress(2)  | 0.0                | ... | 0.01440922190201729    |\n",
      "+--------------+--------------------+-----+------------------------+\n",
      "| keypress(3)  | 1.0                | ... | 0.005763688760806916   |\n",
      "+--------------+--------------------+-----+------------------------+\n"
     ]
    }
   ],
   "source": [
    "# Print Learned Parameters\n",
    "print(mle.estimate_cpd(node=\"keypress\"))"
   ]
  }
 ],
 "metadata": {
  "interpreter": {
   "hash": "aee8b7b246df8f9039afb4144a1f6fd8d2ca17a180786b69acc140d282b71a49"
  },
  "kernelspec": {
   "display_name": "Python 3.9.0 64-bit",
   "language": "python",
   "name": "python3"
  },
  "language_info": {
   "codemirror_mode": {
    "name": "ipython",
    "version": 3
   },
   "file_extension": ".py",
   "mimetype": "text/x-python",
   "name": "python",
   "nbconvert_exporter": "python",
   "pygments_lexer": "ipython3",
   "version": "3.9.0"
  },
  "orig_nbformat": 4
 },
 "nbformat": 4,
 "nbformat_minor": 2
}
