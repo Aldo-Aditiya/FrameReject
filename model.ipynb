{
 "cells": [
  {
   "cell_type": "code",
   "execution_count": 2,
   "metadata": {},
   "outputs": [],
   "source": [
    "import pandas as pd\n",
    "\n",
    "from pgmpy.models import BayesianNetwork\n",
    "from pgmpy.estimators import MaximumLikelihoodEstimator"
   ]
  },
  {
   "cell_type": "markdown",
   "metadata": {},
   "source": [
    "### Data and Model Preparation"
   ]
  },
  {
   "cell_type": "code",
   "execution_count": 3,
   "metadata": {},
   "outputs": [],
   "source": [
    "# Data Loading\n",
    "data_dir = './_data/'\n",
    "train_filenames = ['2022-04-22 02:07:18_0_cont.csv']\n",
    "test_filenames = ['2022-04-22 02:07:18_0_cont.csv']\n",
    "\n",
    "# Prepare Train Data\n",
    "df_l = []\n",
    "for f in train_filenames:\n",
    "    filepath = data_dir + f\n",
    "    df_l.append(pd.read_csv(filepath, index_col=None, header=0))\n",
    "df_train = pd.concat(df_l, axis=0, ignore_index=True)\n",
    "\n",
    "# Prepare Test Data\n",
    "df_l = []\n",
    "for f in test_filenames:\n",
    "    filepath = data_dir + f\n",
    "    df_l.append(pd.read_csv(filepath, index_col=None, header=0))\n",
    "df_test = pd.concat(df_l, axis=0, ignore_index=True)"
   ]
  },
  {
   "cell_type": "code",
   "execution_count": 4,
   "metadata": {},
   "outputs": [],
   "source": [
    "# Construct PGM\n",
    "model_struct = BayesianNetwork([('ball_state','keypress'), ('paddle_state', 'keypress')])\n"
   ]
  },
  {
   "cell_type": "markdown",
   "metadata": {},
   "source": [
    "### Train"
   ]
  },
  {
   "cell_type": "code",
   "execution_count": 5,
   "metadata": {},
   "outputs": [],
   "source": [
    "# Training using MLE\n",
    "mle = MaximumLikelihoodEstimator(model=model_struct, data=df_train)"
   ]
  },
  {
   "cell_type": "code",
   "execution_count": 6,
   "metadata": {},
   "outputs": [
    {
     "name": "stdout",
     "output_type": "stream",
     "text": [
      "+--------------+--------------------+-----+------------------------+\n",
      "| ball_state   | ball_state(left)   | ... | ball_state(stagnant)   |\n",
      "+--------------+--------------------+-----+------------------------+\n",
      "| paddle_state | paddle_state(left) | ... | paddle_state(stagnant) |\n",
      "+--------------+--------------------+-----+------------------------+\n",
      "| keypress(0)  | 0.0                | ... | 0.9394812680115274     |\n",
      "+--------------+--------------------+-----+------------------------+\n",
      "| keypress(1)  | 0.0                | ... | 0.040345821325648415   |\n",
      "+--------------+--------------------+-----+------------------------+\n",
      "| keypress(2)  | 0.0                | ... | 0.01440922190201729    |\n",
      "+--------------+--------------------+-----+------------------------+\n",
      "| keypress(3)  | 1.0                | ... | 0.005763688760806916   |\n",
      "+--------------+--------------------+-----+------------------------+\n"
     ]
    }
   ],
   "source": [
    "# Print Learned Parameters\n",
    "print(mle.estimate_cpd(node=\"keypress\"))"
   ]
  },
  {
   "cell_type": "markdown",
   "metadata": {},
   "source": [
    "### Test"
   ]
  },
  {
   "cell_type": "code",
   "execution_count": 7,
   "metadata": {},
   "outputs": [],
   "source": [
    "# Helper Functions\n",
    "def test_state_generation(ball_state, paddle_state):\n",
    "    if (ball_state+ ',' + paddle_state) == 'left,left': \n",
    "        state1 = 0\n",
    "        state2 = 0\n",
    "    if (ball_state+ ',' + paddle_state) == 'left,right': \n",
    "        state1 = 0\n",
    "        state2 = 1\n",
    "    if (ball_state+ ',' + paddle_state) == 'left,stagnant':\n",
    "        state1 = 0\n",
    "        state2 = 2\n",
    "    if (ball_state+ ',' + paddle_state) == 'right,left': \n",
    "        state1 = 1\n",
    "        state2 = 0 \n",
    "    if (ball_state+ ',' + paddle_state) == 'right,right': \n",
    "        state1 = 1\n",
    "        state2 = 1\n",
    "    if (ball_state+ ',' + paddle_state) == 'right,stagnant': \n",
    "        state1 = 1\n",
    "        state2 = 2\n",
    "    if (ball_state+ ',' + paddle_state) == 'stagnant,left': \n",
    "        state1 = 2\n",
    "        state2 = 0\n",
    "    if (ball_state+ ',' + paddle_state) == 'stagnant,right': \n",
    "        state1 = 2\n",
    "        state2 = 1\n",
    "    if (ball_state+ ',' + paddle_state) == 'stagnant,stagnant': \n",
    "        state1 = 2\n",
    "        state2 = 2\n",
    "    return state1, state2"
   ]
  },
  {
   "cell_type": "code",
   "execution_count": 11,
   "metadata": {},
   "outputs": [
    {
     "name": "stdout",
     "output_type": "stream",
     "text": [
      "Accuracy : 0.8627450980392157\n",
      "Pos      : 572\n",
      "Neg      : 91\n"
     ]
    }
   ],
   "source": [
    "# Test Setup\n",
    "pos = 0\n",
    "neg = 0\n",
    "model_data = mle.estimate_cpd(node=\"keypress\").values\n",
    "\n",
    "# Main Test Loop\n",
    "for i, row in df_test.iterrows():\n",
    "    ball_state = row['ball_state']\n",
    "    paddle_state = row['paddle_state']\n",
    "    keypress = row['keypress']\n",
    "\n",
    "    state1, state2 = test_state_generation(ball_state, paddle_state)\n",
    "\n",
    "    choices = [model_data[i][state1][state2] for i in range (4)]\n",
    "    best_choice = max(choices)\n",
    "\n",
    "    predicted = choices.index(best_choice)\n",
    "    if predicted == 2: predicted = 3\n",
    "    if predicted == 3: predicted = 4  \n",
    "\n",
    "    if predicted == keypress: \n",
    "        pos += 1\n",
    "    else: neg += 1\n",
    "\n",
    "acc = pos/(pos+neg)\n",
    "print(f'Accuracy : {acc}')\n",
    "print(f'Pos      : {pos}')\n",
    "print(f'Neg      : {neg}')"
   ]
  }
 ],
 "metadata": {
  "interpreter": {
   "hash": "aee8b7b246df8f9039afb4144a1f6fd8d2ca17a180786b69acc140d282b71a49"
  },
  "kernelspec": {
   "display_name": "Python 3.9.0 64-bit",
   "language": "python",
   "name": "python3"
  },
  "language_info": {
   "codemirror_mode": {
    "name": "ipython",
    "version": 3
   },
   "file_extension": ".py",
   "mimetype": "text/x-python",
   "name": "python",
   "nbconvert_exporter": "python",
   "pygments_lexer": "ipython3",
   "version": "3.9.0"
  },
  "orig_nbformat": 4
 },
 "nbformat": 4,
 "nbformat_minor": 2
}
