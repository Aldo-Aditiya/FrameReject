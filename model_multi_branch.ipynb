{
 "cells": [
  {
   "cell_type": "code",
   "execution_count": 17,
   "metadata": {},
   "outputs": [],
   "source": [
    "import pandas as pd\n",
    "import numpy as np\n",
    "import pickle\n",
    "from tqdm import tqdm\n",
    "\n",
    "import cv2\n",
    "from pgmpy.models import BayesianNetwork\n",
    "from pgmpy.estimators import MaximumLikelihoodEstimator\n",
    "\n",
    "from ale_py import ALEInterface"
   ]
  },
  {
   "cell_type": "markdown",
   "metadata": {},
   "source": [
    "### Data and Model Preparation"
   ]
  },
  {
   "cell_type": "code",
   "execution_count": 2,
   "metadata": {},
   "outputs": [],
   "source": [
    "# Data Loading\n",
    "data_dir = './_data/'\n",
    "train_filenames = ['2022-04-22 19:56:07_0_cont']\n",
    "test_filenames = ['2022-04-22 19:56:07_0_cont']\n",
    "\n",
    "# Prepare Train Data\n",
    "df_l = []\n",
    "for f in train_filenames:\n",
    "    filepath = data_dir + f + '.csv'\n",
    "    df_l.append(pd.read_csv(filepath, index_col=None, header=0))\n",
    "df_train = pd.concat(df_l, axis=0, ignore_index=True)\n",
    "\n",
    "# Prepare Test Data\n",
    "df_l = []\n",
    "for f in test_filenames:\n",
    "    filepath = data_dir + f + '.csv'\n",
    "    df_l.append(pd.read_csv(filepath, index_col=None, header=0))\n",
    "df_test = pd.concat(df_l, axis=0, ignore_index=True)"
   ]
  },
  {
   "cell_type": "code",
   "execution_count": 23,
   "metadata": {},
   "outputs": [
    {
     "name": "stdout",
     "output_type": "stream",
     "text": [
      "2072\n"
     ]
    },
    {
     "data": {
      "text/html": [
       "<div>\n",
       "<style scoped>\n",
       "    .dataframe tbody tr th:only-of-type {\n",
       "        vertical-align: middle;\n",
       "    }\n",
       "\n",
       "    .dataframe tbody tr th {\n",
       "        vertical-align: top;\n",
       "    }\n",
       "\n",
       "    .dataframe thead th {\n",
       "        text-align: right;\n",
       "    }\n",
       "</style>\n",
       "<table border=\"1\" class=\"dataframe\">\n",
       "  <thead>\n",
       "    <tr style=\"text-align: right;\">\n",
       "      <th></th>\n",
       "      <th>paddle_position</th>\n",
       "      <th>paddle_state</th>\n",
       "      <th>previous_paddle_position</th>\n",
       "      <th>ball_position</th>\n",
       "      <th>ball_state</th>\n",
       "      <th>previous_ball_position</th>\n",
       "      <th>keypress</th>\n",
       "      <th>previous_keypress</th>\n",
       "      <th>pickle_path</th>\n",
       "    </tr>\n",
       "  </thead>\n",
       "  <tbody>\n",
       "    <tr>\n",
       "      <th>0</th>\n",
       "      <td>[ 0 56]</td>\n",
       "      <td>right</td>\n",
       "      <td>[0, 0]</td>\n",
       "      <td>[0, 0]</td>\n",
       "      <td>stagnant</td>\n",
       "      <td>[0, 0]</td>\n",
       "      <td>0</td>\n",
       "      <td>0</td>\n",
       "      <td>./_data/2022-04-22 19:56:07_pickle/0</td>\n",
       "    </tr>\n",
       "    <tr>\n",
       "      <th>1</th>\n",
       "      <td>[ 0 56]</td>\n",
       "      <td>stagnant</td>\n",
       "      <td>[ 0 56]</td>\n",
       "      <td>[0, 0]</td>\n",
       "      <td>stagnant</td>\n",
       "      <td>[0, 0]</td>\n",
       "      <td>0</td>\n",
       "      <td>0</td>\n",
       "      <td>./_data/2022-04-22 19:56:07_pickle/1</td>\n",
       "    </tr>\n",
       "    <tr>\n",
       "      <th>2</th>\n",
       "      <td>[ 0 56]</td>\n",
       "      <td>stagnant</td>\n",
       "      <td>[ 0 56]</td>\n",
       "      <td>[0, 0]</td>\n",
       "      <td>stagnant</td>\n",
       "      <td>[0, 0]</td>\n",
       "      <td>0</td>\n",
       "      <td>0</td>\n",
       "      <td>./_data/2022-04-22 19:56:07_pickle/2</td>\n",
       "    </tr>\n",
       "    <tr>\n",
       "      <th>3</th>\n",
       "      <td>[ 0 56]</td>\n",
       "      <td>stagnant</td>\n",
       "      <td>[ 0 56]</td>\n",
       "      <td>[0, 0]</td>\n",
       "      <td>stagnant</td>\n",
       "      <td>[0, 0]</td>\n",
       "      <td>0</td>\n",
       "      <td>0</td>\n",
       "      <td>./_data/2022-04-22 19:56:07_pickle/3</td>\n",
       "    </tr>\n",
       "    <tr>\n",
       "      <th>4</th>\n",
       "      <td>[ 0 56]</td>\n",
       "      <td>stagnant</td>\n",
       "      <td>[ 0 56]</td>\n",
       "      <td>[0, 0]</td>\n",
       "      <td>stagnant</td>\n",
       "      <td>[0, 0]</td>\n",
       "      <td>0</td>\n",
       "      <td>0</td>\n",
       "      <td>./_data/2022-04-22 19:56:07_pickle/4</td>\n",
       "    </tr>\n",
       "  </tbody>\n",
       "</table>\n",
       "</div>"
      ],
      "text/plain": [
       "  paddle_position paddle_state previous_paddle_position ball_position  \\\n",
       "0         [ 0 56]        right                   [0, 0]        [0, 0]   \n",
       "1         [ 0 56]     stagnant                  [ 0 56]        [0, 0]   \n",
       "2         [ 0 56]     stagnant                  [ 0 56]        [0, 0]   \n",
       "3         [ 0 56]     stagnant                  [ 0 56]        [0, 0]   \n",
       "4         [ 0 56]     stagnant                  [ 0 56]        [0, 0]   \n",
       "\n",
       "  ball_state previous_ball_position  keypress  previous_keypress  \\\n",
       "0   stagnant                 [0, 0]         0                  0   \n",
       "1   stagnant                 [0, 0]         0                  0   \n",
       "2   stagnant                 [0, 0]         0                  0   \n",
       "3   stagnant                 [0, 0]         0                  0   \n",
       "4   stagnant                 [0, 0]         0                  0   \n",
       "\n",
       "                            pickle_path  \n",
       "0  ./_data/2022-04-22 19:56:07_pickle/0  \n",
       "1  ./_data/2022-04-22 19:56:07_pickle/1  \n",
       "2  ./_data/2022-04-22 19:56:07_pickle/2  \n",
       "3  ./_data/2022-04-22 19:56:07_pickle/3  \n",
       "4  ./_data/2022-04-22 19:56:07_pickle/4  "
      ]
     },
     "execution_count": 23,
     "metadata": {},
     "output_type": "execute_result"
    }
   ],
   "source": [
    "print(len(df_train))\n",
    "df_train.head()"
   ]
  },
  {
   "cell_type": "code",
   "execution_count": 4,
   "metadata": {},
   "outputs": [],
   "source": [
    "# Construct PGM\n",
    "model_struct = BayesianNetwork([('ball_state','keypress'), ('paddle_state', 'keypress')])\n"
   ]
  },
  {
   "cell_type": "markdown",
   "metadata": {},
   "source": [
    "### Train"
   ]
  },
  {
   "cell_type": "code",
   "execution_count": 5,
   "metadata": {},
   "outputs": [],
   "source": [
    "# Training using MLE\n",
    "mle = MaximumLikelihoodEstimator(model=model_struct, data=df_train)"
   ]
  },
  {
   "cell_type": "code",
   "execution_count": 6,
   "metadata": {},
   "outputs": [
    {
     "name": "stdout",
     "output_type": "stream",
     "text": [
      "+--------------+-----+------------------------+\n",
      "| ball_state   | ... | ball_state(stagnant)   |\n",
      "+--------------+-----+------------------------+\n",
      "| paddle_state | ... | paddle_state(stagnant) |\n",
      "+--------------+-----+------------------------+\n",
      "| keypress(0)  | ... | 0.908315565031983      |\n",
      "+--------------+-----+------------------------+\n",
      "| keypress(1)  | ... | 0.015991471215351813   |\n",
      "+--------------+-----+------------------------+\n",
      "| keypress(2)  | ... | 0.029850746268656716   |\n",
      "+--------------+-----+------------------------+\n",
      "| keypress(3)  | ... | 0.04584221748400853    |\n",
      "+--------------+-----+------------------------+\n"
     ]
    }
   ],
   "source": [
    "# Print Learned Parameters\n",
    "print(mle.estimate_cpd(node=\"keypress\"))"
   ]
  },
  {
   "cell_type": "markdown",
   "metadata": {},
   "source": [
    "### Test"
   ]
  },
  {
   "cell_type": "code",
   "execution_count": 7,
   "metadata": {},
   "outputs": [],
   "source": [
    "# Helper Functions\n",
    "def test_state_generation(ball_state, paddle_state):\n",
    "    if (ball_state+ ',' + paddle_state) == 'left,left': \n",
    "        state1 = 0\n",
    "        state2 = 0\n",
    "    if (ball_state+ ',' + paddle_state) == 'left,right': \n",
    "        state1 = 0\n",
    "        state2 = 1\n",
    "    if (ball_state+ ',' + paddle_state) == 'left,stagnant':\n",
    "        state1 = 0\n",
    "        state2 = 2\n",
    "    if (ball_state+ ',' + paddle_state) == 'right,left': \n",
    "        state1 = 1\n",
    "        state2 = 0 \n",
    "    if (ball_state+ ',' + paddle_state) == 'right,right': \n",
    "        state1 = 1\n",
    "        state2 = 1\n",
    "    if (ball_state+ ',' + paddle_state) == 'right,stagnant': \n",
    "        state1 = 1\n",
    "        state2 = 2\n",
    "    if (ball_state+ ',' + paddle_state) == 'stagnant,left': \n",
    "        state1 = 2\n",
    "        state2 = 0\n",
    "    if (ball_state+ ',' + paddle_state) == 'stagnant,right': \n",
    "        state1 = 2\n",
    "        state2 = 1\n",
    "    if (ball_state+ ',' + paddle_state) == 'stagnant,stagnant': \n",
    "        state1 = 2\n",
    "        state2 = 2\n",
    "    return state1, state2"
   ]
  },
  {
   "cell_type": "markdown",
   "metadata": {},
   "source": [
    "#### Test Accuracy of Prediction"
   ]
  },
  {
   "cell_type": "code",
   "execution_count": 8,
   "metadata": {},
   "outputs": [
    {
     "name": "stdout",
     "output_type": "stream",
     "text": [
      "Accuracy : 0.8103281853281853\n",
      "Pos      : 1679\n",
      "Neg      : 393\n"
     ]
    }
   ],
   "source": [
    "# Test Setup\n",
    "pos = 0\n",
    "neg = 0\n",
    "model_data = mle.estimate_cpd(node=\"keypress\").values\n",
    "\n",
    "# Main Test Loop\n",
    "for i, row in df_test.iterrows():\n",
    "    ball_state = row['ball_state']\n",
    "    paddle_state = row['paddle_state']\n",
    "    keypress = row['keypress']\n",
    "\n",
    "    state1, state2 = test_state_generation(ball_state, paddle_state)\n",
    "\n",
    "    choices = [model_data[i][state1][state2] for i in range (4)]\n",
    "    best_choice = max(choices)\n",
    "\n",
    "    predicted = choices.index(best_choice)\n",
    "    if predicted == 2: predicted = 3\n",
    "    if predicted == 3: predicted = 4  \n",
    "\n",
    "    if predicted == keypress: \n",
    "        pos += 1\n",
    "    else: neg += 1\n",
    "\n",
    "acc = pos/(pos+neg)\n",
    "print(f'Accuracy : {acc}')\n",
    "print(f'Pos      : {pos}')\n",
    "print(f'Neg      : {neg}')"
   ]
  },
  {
   "cell_type": "markdown",
   "metadata": {},
   "source": [
    "#### Test Branching Predictions"
   ]
  },
  {
   "cell_type": "code",
   "execution_count": 13,
   "metadata": {},
   "outputs": [
    {
     "name": "stderr",
     "output_type": "stream",
     "text": [
      "A.L.E: Arcade Learning Environment (version 0.7.4+069f8bd)\n",
      "[Powered by Stella]\n",
      "Game console created:\n",
      "  ROM file:  ./rom/breakout.bin\n",
      "  Cart Name: Breakout - Breakaway IV (1978) (Atari)\n",
      "  Cart MD5:  f34f08e5eb96e500e851a80be3277a56\n",
      "  Display Format:  AUTO-DETECT ==> NTSC\n",
      "  ROM Size:        2048\n",
      "  Bankswitch Type: AUTO-DETECT ==> 2K\n",
      "\n",
      "Running ROM file...\n",
      "Random seed is 42\n"
     ]
    }
   ],
   "source": [
    "# Setup ALE\n",
    "ale = ALEInterface()\n",
    "ale.setInt(\"random_seed\", 42)\n",
    "ale.setFloat(\"repeat_action_probability\", 0)\n",
    "\n",
    "# Load ROM File\n",
    "rom_file = \"./rom/breakout.bin\"\n",
    "ale.loadROM(rom_file)\n",
    "\n",
    "# Get the list of legal actions\n",
    "legal_actions = ale.getLegalActionSet()\n",
    "minimal_actions = ale.getMinimalActionSet()\n",
    "\n",
    "# Reset and Prep Screen \n",
    "(screen_width,screen_height) = ale.getScreenDims()\n",
    "screen_data = np.zeros((screen_width,screen_height,3),dtype=np.uint8)\n",
    "ale.getScreenRGB(screen_data)"
   ]
  },
  {
   "cell_type": "code",
   "execution_count": 14,
   "metadata": {},
   "outputs": [],
   "source": [
    "# Helper Functions\n",
    "def generate_game_object_position(frame, all_black_pixels_ball):\n",
    "    # Get ball and paddle states from the frame\n",
    "    colored_region = frame[57:57 + 36, 43:146]\n",
    "    ball_frame = frame[107:107 + 82, 43:146]\n",
    "    paddle_frame = frame[190:190 + 3, 43:146]\n",
    "    red_pixels_ball = np.argwhere(cv2.inRange(ball_frame, (1, 1, 1), (255, 255, 255)))\n",
    "    red_pixels_paddle = np.argwhere(cv2.inRange(paddle_frame, (1, 1, 1), (255, 255, 255)))\n",
    "\n",
    "    if len(red_pixels_ball) != 0:\n",
    "        ball_position = red_pixels_ball[0]\n",
    "    else:\n",
    "        black_pixels_ball = np.argwhere(cv2.inRange(colored_region, (0, 0, 0), (0, 0, 0)))\n",
    "        values = []\n",
    "\n",
    "        for j in range(len(all_black_pixels_ball)):\n",
    "            values = all_black_pixels_ball[j]\n",
    "\n",
    "        red_pixels_ball = [i for i in black_pixels_ball if i not in values]\n",
    "        try:\n",
    "            ball_position = red_pixels_ball[0]\n",
    "        except:\n",
    "            ball_position = [0, 0]\n",
    "        all_black_pixels_ball.append(black_pixels_ball)\n",
    "    try:\n",
    "        paddle_position = red_pixels_paddle[0]\n",
    "    except:\n",
    "        paddle_position = [0, 0]\n",
    "\n",
    "    return paddle_position, ball_position\n",
    "\n",
    "def generate_game_state(objects_position, previous_objects_position):\n",
    "    paddle_position = objects_position[0]\n",
    "    ball_position = objects_position[1]\n",
    "\n",
    "    previous_paddle_position = previous_objects_position[0]\n",
    "    previous_ball_position = previous_objects_position[1]\n",
    "\n",
    "    if previous_paddle_position[1] < paddle_position[1]:\n",
    "        paddle_state = \"right\"\n",
    "    elif previous_paddle_position[1] > paddle_position[1]:\n",
    "        paddle_state = \"left\"\n",
    "    else:\n",
    "        paddle_state = \"stagnant\"\n",
    "\n",
    "    if previous_ball_position[1] < ball_position[1]:\n",
    "        ball_state = \"right\"\n",
    "    elif previous_ball_position[1] > ball_position[1]:\n",
    "        ball_state = \"left\"\n",
    "    else:\n",
    "        ball_state = \"stagnant\"\n",
    "\n",
    "    return paddle_state, ball_state\n",
    "\n",
    "def create_three_timestep_dataset(df):\n",
    "    rand_idx = np.random.randint(0, len(df_test)-3)\n",
    "    return df.iloc[rand_idx], df.iloc[rand_idx+1], df.iloc[rand_idx+2]\n",
    "\n",
    "def convert_keypress(kp):\n",
    "    if kp == 3: kp = 2\n",
    "    if kp == 4: kp = 3\n",
    "\n",
    "    return kp"
   ]
  },
  {
   "cell_type": "code",
   "execution_count": 20,
   "metadata": {},
   "outputs": [
    {
     "name": "stderr",
     "output_type": "stream",
     "text": [
      "  0%|          | 0/10 [00:00<?, ?it/s]"
     ]
    },
    {
     "name": "stdout",
     "output_type": "stream",
     "text": [
      "[ 0 69]\n",
      "[ 0 68]\n"
     ]
    },
    {
     "name": "stderr",
     "output_type": "stream",
     "text": [
      "\n"
     ]
    },
    {
     "ename": "TypeError",
     "evalue": "'<' not supported between instances of 'numpy.ndarray' and 'str'",
     "output_type": "error",
     "traceback": [
      "\u001b[0;31m---------------------------------------------------------------------------\u001b[0m",
      "\u001b[0;31mTypeError\u001b[0m                                 Traceback (most recent call last)",
      "\u001b[0;32m/var/folders/b_/cr2g20952rd4cp42_172bnvr0000gp/T/ipykernel_18197/1902845465.py\u001b[0m in \u001b[0;36m<module>\u001b[0;34m\u001b[0m\n\u001b[1;32m     30\u001b[0m         \u001b[0mprint\u001b[0m\u001b[0;34m(\u001b[0m\u001b[0mpaddle_position_2\u001b[0m\u001b[0;34m)\u001b[0m\u001b[0;34m\u001b[0m\u001b[0;34m\u001b[0m\u001b[0m\n\u001b[1;32m     31\u001b[0m         \u001b[0mprint\u001b[0m\u001b[0;34m(\u001b[0m\u001b[0mdf_1\u001b[0m\u001b[0;34m[\u001b[0m\u001b[0;34m'paddle_position'\u001b[0m\u001b[0;34m]\u001b[0m\u001b[0;34m)\u001b[0m\u001b[0;34m\u001b[0m\u001b[0;34m\u001b[0m\u001b[0m\n\u001b[0;32m---> 32\u001b[0;31m         paddle_state, ball_state = generate_game_state([df_1['paddle_position'], df_1['ball_position']], \n\u001b[0m\u001b[1;32m     33\u001b[0m                                                     [paddle_position_2, ball_position_2])\n\u001b[1;32m     34\u001b[0m         \u001b[0mtest_state1\u001b[0m\u001b[0;34m,\u001b[0m \u001b[0mtest_state2\u001b[0m \u001b[0;34m=\u001b[0m \u001b[0mtest_state_generation\u001b[0m\u001b[0;34m(\u001b[0m\u001b[0mpaddle_state\u001b[0m\u001b[0;34m,\u001b[0m \u001b[0mball_state\u001b[0m\u001b[0;34m)\u001b[0m\u001b[0;34m\u001b[0m\u001b[0;34m\u001b[0m\u001b[0m\n",
      "\u001b[0;32m/var/folders/b_/cr2g20952rd4cp42_172bnvr0000gp/T/ipykernel_18197/1468490284.py\u001b[0m in \u001b[0;36mgenerate_game_state\u001b[0;34m(objects_position, previous_objects_position)\u001b[0m\n\u001b[1;32m     37\u001b[0m     \u001b[0mprevious_ball_position\u001b[0m \u001b[0;34m=\u001b[0m \u001b[0mprevious_objects_position\u001b[0m\u001b[0;34m[\u001b[0m\u001b[0;36m1\u001b[0m\u001b[0;34m]\u001b[0m\u001b[0;34m\u001b[0m\u001b[0;34m\u001b[0m\u001b[0m\n\u001b[1;32m     38\u001b[0m \u001b[0;34m\u001b[0m\u001b[0m\n\u001b[0;32m---> 39\u001b[0;31m     \u001b[0;32mif\u001b[0m \u001b[0mprevious_paddle_position\u001b[0m\u001b[0;34m[\u001b[0m\u001b[0;36m1\u001b[0m\u001b[0;34m]\u001b[0m \u001b[0;34m<\u001b[0m \u001b[0mpaddle_position\u001b[0m\u001b[0;34m[\u001b[0m\u001b[0;36m1\u001b[0m\u001b[0;34m]\u001b[0m\u001b[0;34m:\u001b[0m\u001b[0;34m\u001b[0m\u001b[0;34m\u001b[0m\u001b[0m\n\u001b[0m\u001b[1;32m     40\u001b[0m         \u001b[0mpaddle_state\u001b[0m \u001b[0;34m=\u001b[0m \u001b[0;34m\"right\"\u001b[0m\u001b[0;34m\u001b[0m\u001b[0;34m\u001b[0m\u001b[0m\n\u001b[1;32m     41\u001b[0m     \u001b[0;32melif\u001b[0m \u001b[0mprevious_paddle_position\u001b[0m\u001b[0;34m[\u001b[0m\u001b[0;36m1\u001b[0m\u001b[0;34m]\u001b[0m \u001b[0;34m>\u001b[0m \u001b[0mpaddle_position\u001b[0m\u001b[0;34m[\u001b[0m\u001b[0;36m1\u001b[0m\u001b[0;34m]\u001b[0m\u001b[0;34m:\u001b[0m\u001b[0;34m\u001b[0m\u001b[0;34m\u001b[0m\u001b[0m\n",
      "\u001b[0;31mTypeError\u001b[0m: '<' not supported between instances of 'numpy.ndarray' and 'str'"
     ]
    }
   ],
   "source": [
    "num_test = 10 #int(len(df_test)/3)\n",
    "threshold = 0.2\n",
    "inputs = [1, 2, 3]\n",
    "\n",
    "pos = 0\n",
    "neg = 0\n",
    "\n",
    "total_frames_count = []\n",
    "\n",
    "for _ in tqdm(range(num_test)):\n",
    "    df_1, df_2, df_3 = create_three_timestep_dataset(df_test)\n",
    "    kp_2 = convert_keypress(df_2['keypress'])\n",
    "    kp_3 = convert_keypress(df_3['keypress'])\n",
    "\n",
    "    prob_2 = []\n",
    "    prob_3 = []\n",
    "\n",
    "    frames_count = 0\n",
    "\n",
    "    for key_2 in inputs:\n",
    "        with open(df_1['pickle_path'], 'rb') as f:\n",
    "            state_1 = pickle.load(f)\n",
    "        ale.restoreState(state_1)\n",
    "\n",
    "        a = minimal_actions[key_2]\n",
    "        _ = ale.act(a);\n",
    "        frame = ale.getScreenRGB()\n",
    "\n",
    "        paddle_position_2, ball_position_2 = generate_game_object_position(frame, [])\n",
    "        print(paddle_position_2)\n",
    "        print(df_1['paddle_position'])\n",
    "        paddle_state, ball_state = generate_game_state([df_1['paddle_position'], df_1['ball_position']], \n",
    "                                                    [paddle_position_2, ball_position_2])\n",
    "        test_state1, test_state2 = test_state_generation(paddle_state, ball_state)\n",
    "        prob_2.append(model_data[key_2][test_state1][test_state2])\n",
    "\n",
    "        state_2 = ale.cloneState(include_rng=True)\n",
    "\n",
    "        prob_3_buff = []\n",
    "\n",
    "        for key_3 in inputs:\n",
    "\n",
    "            ale.restoreState(state_2)\n",
    "\n",
    "            a = minimal_actions[key_3]\n",
    "            _ = ale.act(a);\n",
    "            frame = ale.getScreenRGB()\n",
    "\n",
    "            paddle_position_3, ball_position_3 = generate_game_object_position(frame, [])\n",
    "            paddle_state, ball_state = generate_game_state([paddle_position_3, ball_position_3],\n",
    "                                                    [paddle_position_2, ball_position_2])\n",
    "            test_state1, test_state2 = test_state_generation(paddle_state, ball_state)\n",
    "            prob_3_buff.append(model_data[key_3][test_state1][test_state2])\n",
    "        \n",
    "        prob_3.append(prob_3_buff)\n",
    "\n",
    "    if prob_2[kp_2 - 1] >= threshold:\n",
    "        if prob_3[kp_2 - 1][kp_3 - 1] > threshold:\n",
    "            pos += 1\n",
    "        else:\n",
    "            neg +=1\n",
    "    else:\n",
    "        neg += 1\n",
    "\n",
    "    for i in inputs:\n",
    "        if prob_2[i] >= threshold:\n",
    "            for j in inputs:\n",
    "                if prob_3[i][j] >= threshold:\n",
    "                    frames_count+=1\n",
    "\n",
    "    total_frames_count.append(frames_count)\n",
    "\n",
    "acc = pos/(pos+neg)\n",
    "print(f'Accuracy : {acc}')\n",
    "print(f'Pos      : {pos}')\n",
    "print(f'Neg      : {neg}')\n",
    "print(f'Avg Frame: {np.mean(np.array(total_frames_count))}')\n",
    "    \n"
   ]
  },
  {
   "cell_type": "code",
   "execution_count": null,
   "metadata": {},
   "outputs": [],
   "source": []
  }
 ],
 "metadata": {
  "interpreter": {
   "hash": "aee8b7b246df8f9039afb4144a1f6fd8d2ca17a180786b69acc140d282b71a49"
  },
  "kernelspec": {
   "display_name": "Python 3.9.0 64-bit",
   "language": "python",
   "name": "python3"
  },
  "language_info": {
   "codemirror_mode": {
    "name": "ipython",
    "version": 3
   },
   "file_extension": ".py",
   "mimetype": "text/x-python",
   "name": "python",
   "nbconvert_exporter": "python",
   "pygments_lexer": "ipython3",
   "version": "3.9.0"
  },
  "orig_nbformat": 4
 },
 "nbformat": 4,
 "nbformat_minor": 2
}
